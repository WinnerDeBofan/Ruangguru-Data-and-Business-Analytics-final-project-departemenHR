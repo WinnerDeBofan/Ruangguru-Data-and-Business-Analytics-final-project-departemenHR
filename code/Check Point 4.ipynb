{
 "cells": [
  {
   "cell_type": "code",
   "execution_count": 196,
   "id": "f9c07c67",
   "metadata": {},
   "outputs": [],
   "source": [
    "import pandas as pd\n",
    "import numpy as np\n",
    "import seaborn as sns\n",
    "import matplotlib.pyplot as plt"
   ]
  },
  {
   "cell_type": "code",
   "execution_count": 197,
   "id": "f84febf1",
   "metadata": {},
   "outputs": [],
   "source": [
    "dff = pd.read_csv(r\"C:\\Users\\hp\\Documents\\rg\\data\\Join.csv\")"
   ]
  },
  {
   "cell_type": "code",
   "execution_count": 275,
   "id": "e239911d",
   "metadata": {},
   "outputs": [
    {
     "data": {
      "text/html": [
       "<div>\n",
       "<style scoped>\n",
       "    .dataframe tbody tr th:only-of-type {\n",
       "        vertical-align: middle;\n",
       "    }\n",
       "\n",
       "    .dataframe tbody tr th {\n",
       "        vertical-align: top;\n",
       "    }\n",
       "\n",
       "    .dataframe thead th {\n",
       "        text-align: right;\n",
       "    }\n",
       "</style>\n",
       "<table border=\"1\" class=\"dataframe\">\n",
       "  <thead>\n",
       "    <tr style=\"text-align: right;\">\n",
       "      <th></th>\n",
       "      <th>fisrt_name</th>\n",
       "      <th>last_name</th>\n",
       "      <th>gender</th>\n",
       "      <th>age</th>\n",
       "      <th>length_service</th>\n",
       "      <th>absent_hours</th>\n",
       "      <th>distribution_centers_id</th>\n",
       "      <th>name</th>\n",
       "      <th>latitude</th>\n",
       "      <th>longitude</th>\n",
       "    </tr>\n",
       "  </thead>\n",
       "  <tbody>\n",
       "    <tr>\n",
       "      <th>0</th>\n",
       "      <td>Gutierrez</td>\n",
       "      <td>Molly</td>\n",
       "      <td>F</td>\n",
       "      <td>32.028816</td>\n",
       "      <td>6.018478</td>\n",
       "      <td>36.577306</td>\n",
       "      <td>5</td>\n",
       "      <td>New Orleans LA</td>\n",
       "      <td>29.9500</td>\n",
       "      <td>-90.0667</td>\n",
       "    </tr>\n",
       "    <tr>\n",
       "      <th>1</th>\n",
       "      <td>Hardwick</td>\n",
       "      <td>Stephen</td>\n",
       "      <td>M</td>\n",
       "      <td>40.320902</td>\n",
       "      <td>5.532445</td>\n",
       "      <td>30.165072</td>\n",
       "      <td>9</td>\n",
       "      <td>Charleston SC</td>\n",
       "      <td>32.7833</td>\n",
       "      <td>-79.9333</td>\n",
       "    </tr>\n",
       "    <tr>\n",
       "      <th>2</th>\n",
       "      <td>Delgado</td>\n",
       "      <td>Chester</td>\n",
       "      <td>M</td>\n",
       "      <td>48.822047</td>\n",
       "      <td>4.389973</td>\n",
       "      <td>83.807798</td>\n",
       "      <td>10</td>\n",
       "      <td>Savannah GA</td>\n",
       "      <td>32.0167</td>\n",
       "      <td>-81.1167</td>\n",
       "    </tr>\n",
       "    <tr>\n",
       "      <th>3</th>\n",
       "      <td>Simon</td>\n",
       "      <td>Irene</td>\n",
       "      <td>F</td>\n",
       "      <td>44.599357</td>\n",
       "      <td>3.081736</td>\n",
       "      <td>70.020165</td>\n",
       "      <td>2</td>\n",
       "      <td>Chicago IL</td>\n",
       "      <td>41.8369</td>\n",
       "      <td>-87.6847</td>\n",
       "    </tr>\n",
       "    <tr>\n",
       "      <th>4</th>\n",
       "      <td>Delvalle</td>\n",
       "      <td>Edward</td>\n",
       "      <td>M</td>\n",
       "      <td>35.697876</td>\n",
       "      <td>3.619091</td>\n",
       "      <td>0.000000</td>\n",
       "      <td>4</td>\n",
       "      <td>Los Angeles CA</td>\n",
       "      <td>34.0500</td>\n",
       "      <td>-118.2500</td>\n",
       "    </tr>\n",
       "  </tbody>\n",
       "</table>\n",
       "</div>"
      ],
      "text/plain": [
       "  fisrt_name last_name gender        age  length_service  absent_hours  \\\n",
       "0  Gutierrez     Molly      F  32.028816        6.018478     36.577306   \n",
       "1   Hardwick   Stephen      M  40.320902        5.532445     30.165072   \n",
       "2    Delgado   Chester      M  48.822047        4.389973     83.807798   \n",
       "3      Simon     Irene      F  44.599357        3.081736     70.020165   \n",
       "4   Delvalle    Edward      M  35.697876        3.619091      0.000000   \n",
       "\n",
       "   distribution_centers_id            name  latitude  longitude  \n",
       "0                        5  New Orleans LA   29.9500   -90.0667  \n",
       "1                        9   Charleston SC   32.7833   -79.9333  \n",
       "2                       10     Savannah GA   32.0167   -81.1167  \n",
       "3                        2      Chicago IL   41.8369   -87.6847  \n",
       "4                        4  Los Angeles CA   34.0500  -118.2500  "
      ]
     },
     "execution_count": 275,
     "metadata": {},
     "output_type": "execute_result"
    }
   ],
   "source": [
    "dff.head()"
   ]
  },
  {
   "cell_type": "code",
   "execution_count": 276,
   "id": "c30f0aa4",
   "metadata": {},
   "outputs": [
    {
     "data": {
      "text/plain": [
       "(8336, 10)"
      ]
     },
     "execution_count": 276,
     "metadata": {},
     "output_type": "execute_result"
    }
   ],
   "source": [
    "dff.shape"
   ]
  },
  {
   "cell_type": "code",
   "execution_count": 277,
   "id": "1f131b9e",
   "metadata": {},
   "outputs": [
    {
     "data": {
      "text/html": [
       "<div>\n",
       "<style scoped>\n",
       "    .dataframe tbody tr th:only-of-type {\n",
       "        vertical-align: middle;\n",
       "    }\n",
       "\n",
       "    .dataframe tbody tr th {\n",
       "        vertical-align: top;\n",
       "    }\n",
       "\n",
       "    .dataframe thead th {\n",
       "        text-align: right;\n",
       "    }\n",
       "</style>\n",
       "<table border=\"1\" class=\"dataframe\">\n",
       "  <thead>\n",
       "    <tr style=\"text-align: right;\">\n",
       "      <th></th>\n",
       "      <th>fisrt_name</th>\n",
       "      <th>last_name</th>\n",
       "      <th>gender</th>\n",
       "      <th>age</th>\n",
       "      <th>length_service</th>\n",
       "      <th>absent_hours</th>\n",
       "      <th>name</th>\n",
       "      <th>latitude</th>\n",
       "      <th>longitude</th>\n",
       "    </tr>\n",
       "  </thead>\n",
       "  <tbody>\n",
       "    <tr>\n",
       "      <th>0</th>\n",
       "      <td>Gutierrez</td>\n",
       "      <td>Molly</td>\n",
       "      <td>F</td>\n",
       "      <td>32.028816</td>\n",
       "      <td>6.018478</td>\n",
       "      <td>36.577306</td>\n",
       "      <td>New Orleans LA</td>\n",
       "      <td>29.9500</td>\n",
       "      <td>-90.0667</td>\n",
       "    </tr>\n",
       "    <tr>\n",
       "      <th>1</th>\n",
       "      <td>Hardwick</td>\n",
       "      <td>Stephen</td>\n",
       "      <td>M</td>\n",
       "      <td>40.320902</td>\n",
       "      <td>5.532445</td>\n",
       "      <td>30.165072</td>\n",
       "      <td>Charleston SC</td>\n",
       "      <td>32.7833</td>\n",
       "      <td>-79.9333</td>\n",
       "    </tr>\n",
       "    <tr>\n",
       "      <th>2</th>\n",
       "      <td>Delgado</td>\n",
       "      <td>Chester</td>\n",
       "      <td>M</td>\n",
       "      <td>48.822047</td>\n",
       "      <td>4.389973</td>\n",
       "      <td>83.807798</td>\n",
       "      <td>Savannah GA</td>\n",
       "      <td>32.0167</td>\n",
       "      <td>-81.1167</td>\n",
       "    </tr>\n",
       "    <tr>\n",
       "      <th>3</th>\n",
       "      <td>Simon</td>\n",
       "      <td>Irene</td>\n",
       "      <td>F</td>\n",
       "      <td>44.599357</td>\n",
       "      <td>3.081736</td>\n",
       "      <td>70.020165</td>\n",
       "      <td>Chicago IL</td>\n",
       "      <td>41.8369</td>\n",
       "      <td>-87.6847</td>\n",
       "    </tr>\n",
       "    <tr>\n",
       "      <th>4</th>\n",
       "      <td>Delvalle</td>\n",
       "      <td>Edward</td>\n",
       "      <td>M</td>\n",
       "      <td>35.697876</td>\n",
       "      <td>3.619091</td>\n",
       "      <td>0.000000</td>\n",
       "      <td>Los Angeles CA</td>\n",
       "      <td>34.0500</td>\n",
       "      <td>-118.2500</td>\n",
       "    </tr>\n",
       "  </tbody>\n",
       "</table>\n",
       "</div>"
      ],
      "text/plain": [
       "  fisrt_name last_name gender        age  length_service  absent_hours  \\\n",
       "0  Gutierrez     Molly      F  32.028816        6.018478     36.577306   \n",
       "1   Hardwick   Stephen      M  40.320902        5.532445     30.165072   \n",
       "2    Delgado   Chester      M  48.822047        4.389973     83.807798   \n",
       "3      Simon     Irene      F  44.599357        3.081736     70.020165   \n",
       "4   Delvalle    Edward      M  35.697876        3.619091      0.000000   \n",
       "\n",
       "             name  latitude  longitude  \n",
       "0  New Orleans LA   29.9500   -90.0667  \n",
       "1   Charleston SC   32.7833   -79.9333  \n",
       "2     Savannah GA   32.0167   -81.1167  \n",
       "3      Chicago IL   41.8369   -87.6847  \n",
       "4  Los Angeles CA   34.0500  -118.2500  "
      ]
     },
     "execution_count": 277,
     "metadata": {},
     "output_type": "execute_result"
    }
   ],
   "source": [
    "df = dff.drop('distribution_centers_id',axis=1)\n",
    "df.head()"
   ]
  },
  {
   "cell_type": "code",
   "execution_count": 278,
   "id": "fad0d5e4",
   "metadata": {},
   "outputs": [],
   "source": [
    "df['age']=df['age'].astype('int')"
   ]
  },
  {
   "cell_type": "code",
   "execution_count": 279,
   "id": "1551ba8f",
   "metadata": {},
   "outputs": [
    {
     "data": {
      "text/plain": [
       "Index(['fisrt_name', 'last_name', 'gender', 'age', 'length_service',\n",
       "       'absent_hours', 'name', 'latitude', 'longitude'],\n",
       "      dtype='object')"
      ]
     },
     "execution_count": 279,
     "metadata": {},
     "output_type": "execute_result"
    }
   ],
   "source": [
    "df.columns"
   ]
  },
  {
   "cell_type": "code",
   "execution_count": 280,
   "id": "5ae41a46",
   "metadata": {},
   "outputs": [],
   "source": [
    "###Categorical Variables\n",
    "cols = ['gender','name']"
   ]
  },
  {
   "cell_type": "code",
   "execution_count": 281,
   "id": "8a2f6a88",
   "metadata": {},
   "outputs": [],
   "source": [
    "###label encoding\n",
    "from sklearn.preprocessing import LabelEncoder\n",
    "for col in cols:\n",
    "    le = LabelEncoder()\n",
    "    df[col] = le.fit_transform(df[col])"
   ]
  },
  {
   "cell_type": "code",
   "execution_count": 282,
   "id": "5f9b458b",
   "metadata": {},
   "outputs": [
    {
     "data": {
      "text/html": [
       "<div>\n",
       "<style scoped>\n",
       "    .dataframe tbody tr th:only-of-type {\n",
       "        vertical-align: middle;\n",
       "    }\n",
       "\n",
       "    .dataframe tbody tr th {\n",
       "        vertical-align: top;\n",
       "    }\n",
       "\n",
       "    .dataframe thead th {\n",
       "        text-align: right;\n",
       "    }\n",
       "</style>\n",
       "<table border=\"1\" class=\"dataframe\">\n",
       "  <thead>\n",
       "    <tr style=\"text-align: right;\">\n",
       "      <th></th>\n",
       "      <th>fisrt_name</th>\n",
       "      <th>last_name</th>\n",
       "      <th>gender</th>\n",
       "      <th>age</th>\n",
       "      <th>length_service</th>\n",
       "      <th>absent_hours</th>\n",
       "      <th>name</th>\n",
       "      <th>latitude</th>\n",
       "      <th>longitude</th>\n",
       "    </tr>\n",
       "  </thead>\n",
       "  <tbody>\n",
       "    <tr>\n",
       "      <th>0</th>\n",
       "      <td>Gutierrez</td>\n",
       "      <td>Molly</td>\n",
       "      <td>0</td>\n",
       "      <td>32</td>\n",
       "      <td>6.018478</td>\n",
       "      <td>36.577306</td>\n",
       "      <td>6</td>\n",
       "      <td>29.9500</td>\n",
       "      <td>-90.0667</td>\n",
       "    </tr>\n",
       "    <tr>\n",
       "      <th>1</th>\n",
       "      <td>Hardwick</td>\n",
       "      <td>Stephen</td>\n",
       "      <td>1</td>\n",
       "      <td>40</td>\n",
       "      <td>5.532445</td>\n",
       "      <td>30.165072</td>\n",
       "      <td>0</td>\n",
       "      <td>32.7833</td>\n",
       "      <td>-79.9333</td>\n",
       "    </tr>\n",
       "    <tr>\n",
       "      <th>2</th>\n",
       "      <td>Delgado</td>\n",
       "      <td>Chester</td>\n",
       "      <td>1</td>\n",
       "      <td>48</td>\n",
       "      <td>4.389973</td>\n",
       "      <td>83.807798</td>\n",
       "      <td>9</td>\n",
       "      <td>32.0167</td>\n",
       "      <td>-81.1167</td>\n",
       "    </tr>\n",
       "    <tr>\n",
       "      <th>3</th>\n",
       "      <td>Simon</td>\n",
       "      <td>Irene</td>\n",
       "      <td>0</td>\n",
       "      <td>44</td>\n",
       "      <td>3.081736</td>\n",
       "      <td>70.020165</td>\n",
       "      <td>1</td>\n",
       "      <td>41.8369</td>\n",
       "      <td>-87.6847</td>\n",
       "    </tr>\n",
       "    <tr>\n",
       "      <th>4</th>\n",
       "      <td>Delvalle</td>\n",
       "      <td>Edward</td>\n",
       "      <td>1</td>\n",
       "      <td>35</td>\n",
       "      <td>3.619091</td>\n",
       "      <td>0.000000</td>\n",
       "      <td>3</td>\n",
       "      <td>34.0500</td>\n",
       "      <td>-118.2500</td>\n",
       "    </tr>\n",
       "  </tbody>\n",
       "</table>\n",
       "</div>"
      ],
      "text/plain": [
       "  fisrt_name last_name  gender  age  length_service  absent_hours  name  \\\n",
       "0  Gutierrez     Molly       0   32        6.018478     36.577306     6   \n",
       "1   Hardwick   Stephen       1   40        5.532445     30.165072     0   \n",
       "2    Delgado   Chester       1   48        4.389973     83.807798     9   \n",
       "3      Simon     Irene       0   44        3.081736     70.020165     1   \n",
       "4   Delvalle    Edward       1   35        3.619091      0.000000     3   \n",
       "\n",
       "   latitude  longitude  \n",
       "0   29.9500   -90.0667  \n",
       "1   32.7833   -79.9333  \n",
       "2   32.0167   -81.1167  \n",
       "3   41.8369   -87.6847  \n",
       "4   34.0500  -118.2500  "
      ]
     },
     "execution_count": 282,
     "metadata": {},
     "output_type": "execute_result"
    }
   ],
   "source": [
    "df.head()"
   ]
  },
  {
   "cell_type": "code",
   "execution_count": 283,
   "id": "e306e355",
   "metadata": {},
   "outputs": [],
   "source": [
    "# IQR Method to remove outliers\n",
    "q1, q3 = np.percentile(df['age'], [25, 75])\n",
    "iqr = q3 - q1\n",
    "lower_bound = q1 - (1.5 * iqr)\n",
    "upper_bound = q3 + (1.5 * iqr)\n",
    "\n",
    "df = df[(df['age'] > lower_bound) & (df['age'] < upper_bound)]"
   ]
  },
  {
   "cell_type": "code",
   "execution_count": 307,
   "id": "c406550d",
   "metadata": {},
   "outputs": [
    {
     "data": {
      "text/html": [
       "<div>\n",
       "<style scoped>\n",
       "    .dataframe tbody tr th:only-of-type {\n",
       "        vertical-align: middle;\n",
       "    }\n",
       "\n",
       "    .dataframe tbody tr th {\n",
       "        vertical-align: top;\n",
       "    }\n",
       "\n",
       "    .dataframe thead th {\n",
       "        text-align: right;\n",
       "    }\n",
       "</style>\n",
       "<table border=\"1\" class=\"dataframe\">\n",
       "  <thead>\n",
       "    <tr style=\"text-align: right;\">\n",
       "      <th></th>\n",
       "      <th>gender</th>\n",
       "      <th>age</th>\n",
       "      <th>length_service</th>\n",
       "      <th>absent_hours</th>\n",
       "      <th>name</th>\n",
       "      <th>latitude</th>\n",
       "      <th>longitude</th>\n",
       "    </tr>\n",
       "  </thead>\n",
       "  <tbody>\n",
       "    <tr>\n",
       "      <th>count</th>\n",
       "      <td>8259.000000</td>\n",
       "      <td>8259.000000</td>\n",
       "      <td>8259.000000</td>\n",
       "      <td>8259.000000</td>\n",
       "      <td>8259.000000</td>\n",
       "      <td>8259.000000</td>\n",
       "      <td>8259.000000</td>\n",
       "    </tr>\n",
       "    <tr>\n",
       "      <th>mean</th>\n",
       "      <td>0.506599</td>\n",
       "      <td>41.542681</td>\n",
       "      <td>4.784149</td>\n",
       "      <td>61.088391</td>\n",
       "      <td>4.484562</td>\n",
       "      <td>34.675679</td>\n",
       "      <td>-87.963883</td>\n",
       "    </tr>\n",
       "    <tr>\n",
       "      <th>std</th>\n",
       "      <td>0.499987</td>\n",
       "      <td>9.592911</td>\n",
       "      <td>2.470414</td>\n",
       "      <td>48.263293</td>\n",
       "      <td>2.867646</td>\n",
       "      <td>4.337000</td>\n",
       "      <td>12.051902</td>\n",
       "    </tr>\n",
       "    <tr>\n",
       "      <th>min</th>\n",
       "      <td>0.000000</td>\n",
       "      <td>16.000000</td>\n",
       "      <td>0.012098</td>\n",
       "      <td>0.000000</td>\n",
       "      <td>0.000000</td>\n",
       "      <td>29.760400</td>\n",
       "      <td>-118.250000</td>\n",
       "    </tr>\n",
       "    <tr>\n",
       "      <th>25%</th>\n",
       "      <td>0.000000</td>\n",
       "      <td>35.000000</td>\n",
       "      <td>3.577259</td>\n",
       "      <td>19.667232</td>\n",
       "      <td>2.000000</td>\n",
       "      <td>30.694400</td>\n",
       "      <td>-90.066700</td>\n",
       "    </tr>\n",
       "    <tr>\n",
       "      <th>50%</th>\n",
       "      <td>1.000000</td>\n",
       "      <td>42.000000</td>\n",
       "      <td>4.598178</td>\n",
       "      <td>56.175784</td>\n",
       "      <td>4.000000</td>\n",
       "      <td>32.783300</td>\n",
       "      <td>-88.043100</td>\n",
       "    </tr>\n",
       "    <tr>\n",
       "      <th>75%</th>\n",
       "      <td>1.000000</td>\n",
       "      <td>48.000000</td>\n",
       "      <td>5.623032</td>\n",
       "      <td>94.030097</td>\n",
       "      <td>7.000000</td>\n",
       "      <td>39.950000</td>\n",
       "      <td>-79.933300</td>\n",
       "    </tr>\n",
       "    <tr>\n",
       "      <th>max</th>\n",
       "      <td>1.000000</td>\n",
       "      <td>67.000000</td>\n",
       "      <td>43.735239</td>\n",
       "      <td>252.193535</td>\n",
       "      <td>9.000000</td>\n",
       "      <td>41.836900</td>\n",
       "      <td>-73.783400</td>\n",
       "    </tr>\n",
       "  </tbody>\n",
       "</table>\n",
       "</div>"
      ],
      "text/plain": [
       "            gender          age  length_service  absent_hours         name  \\\n",
       "count  8259.000000  8259.000000     8259.000000   8259.000000  8259.000000   \n",
       "mean      0.506599    41.542681        4.784149     61.088391     4.484562   \n",
       "std       0.499987     9.592911        2.470414     48.263293     2.867646   \n",
       "min       0.000000    16.000000        0.012098      0.000000     0.000000   \n",
       "25%       0.000000    35.000000        3.577259     19.667232     2.000000   \n",
       "50%       1.000000    42.000000        4.598178     56.175784     4.000000   \n",
       "75%       1.000000    48.000000        5.623032     94.030097     7.000000   \n",
       "max       1.000000    67.000000       43.735239    252.193535     9.000000   \n",
       "\n",
       "          latitude    longitude  \n",
       "count  8259.000000  8259.000000  \n",
       "mean     34.675679   -87.963883  \n",
       "std       4.337000    12.051902  \n",
       "min      29.760400  -118.250000  \n",
       "25%      30.694400   -90.066700  \n",
       "50%      32.783300   -88.043100  \n",
       "75%      39.950000   -79.933300  \n",
       "max      41.836900   -73.783400  "
      ]
     },
     "execution_count": 307,
     "metadata": {},
     "output_type": "execute_result"
    }
   ],
   "source": [
    "df.describe()"
   ]
  },
  {
   "cell_type": "code",
   "execution_count": 284,
   "id": "ed1299d2",
   "metadata": {
    "scrolled": true
   },
   "outputs": [
    {
     "name": "stderr",
     "output_type": "stream",
     "text": [
      "C:\\Users\\hp\\AppData\\Local\\Temp/ipykernel_14056/3901414515.py:1: FutureWarning: Indexing with multiple keys (implicitly converted to a tuple of keys) will be deprecated, use a list instead.\n",
      "  df.groupby('fisrt_name')['gender','age','length_service','absent_hours'].sum()\n"
     ]
    },
    {
     "data": {
      "text/html": [
       "<div>\n",
       "<style scoped>\n",
       "    .dataframe tbody tr th:only-of-type {\n",
       "        vertical-align: middle;\n",
       "    }\n",
       "\n",
       "    .dataframe tbody tr th {\n",
       "        vertical-align: top;\n",
       "    }\n",
       "\n",
       "    .dataframe thead th {\n",
       "        text-align: right;\n",
       "    }\n",
       "</style>\n",
       "<table border=\"1\" class=\"dataframe\">\n",
       "  <thead>\n",
       "    <tr style=\"text-align: right;\">\n",
       "      <th></th>\n",
       "      <th>gender</th>\n",
       "      <th>age</th>\n",
       "      <th>length_service</th>\n",
       "      <th>absent_hours</th>\n",
       "    </tr>\n",
       "    <tr>\n",
       "      <th>fisrt_name</th>\n",
       "      <th></th>\n",
       "      <th></th>\n",
       "      <th></th>\n",
       "      <th></th>\n",
       "    </tr>\n",
       "  </thead>\n",
       "  <tbody>\n",
       "    <tr>\n",
       "      <th>Aaron</th>\n",
       "      <td>1</td>\n",
       "      <td>43</td>\n",
       "      <td>5.502564</td>\n",
       "      <td>95.416804</td>\n",
       "    </tr>\n",
       "    <tr>\n",
       "      <th>Abadie</th>\n",
       "      <td>0</td>\n",
       "      <td>41</td>\n",
       "      <td>2.433408</td>\n",
       "      <td>23.474656</td>\n",
       "    </tr>\n",
       "    <tr>\n",
       "      <th>Abbas</th>\n",
       "      <td>0</td>\n",
       "      <td>51</td>\n",
       "      <td>4.164912</td>\n",
       "      <td>138.834747</td>\n",
       "    </tr>\n",
       "    <tr>\n",
       "      <th>Abbate</th>\n",
       "      <td>0</td>\n",
       "      <td>39</td>\n",
       "      <td>1.766600</td>\n",
       "      <td>51.527000</td>\n",
       "    </tr>\n",
       "    <tr>\n",
       "      <th>Abbott</th>\n",
       "      <td>5</td>\n",
       "      <td>207</td>\n",
       "      <td>23.414446</td>\n",
       "      <td>327.149793</td>\n",
       "    </tr>\n",
       "    <tr>\n",
       "      <th>...</th>\n",
       "      <td>...</td>\n",
       "      <td>...</td>\n",
       "      <td>...</td>\n",
       "      <td>...</td>\n",
       "    </tr>\n",
       "    <tr>\n",
       "      <th>Ziemba</th>\n",
       "      <td>0</td>\n",
       "      <td>40</td>\n",
       "      <td>4.526874</td>\n",
       "      <td>74.190142</td>\n",
       "    </tr>\n",
       "    <tr>\n",
       "      <th>Zinn</th>\n",
       "      <td>1</td>\n",
       "      <td>50</td>\n",
       "      <td>3.678007</td>\n",
       "      <td>66.643098</td>\n",
       "    </tr>\n",
       "    <tr>\n",
       "      <th>Zorn</th>\n",
       "      <td>0</td>\n",
       "      <td>31</td>\n",
       "      <td>4.071733</td>\n",
       "      <td>0.000000</td>\n",
       "    </tr>\n",
       "    <tr>\n",
       "      <th>Zuniga</th>\n",
       "      <td>1</td>\n",
       "      <td>30</td>\n",
       "      <td>6.011229</td>\n",
       "      <td>0.000000</td>\n",
       "    </tr>\n",
       "    <tr>\n",
       "      <th>Zwilling</th>\n",
       "      <td>0</td>\n",
       "      <td>49</td>\n",
       "      <td>2.047741</td>\n",
       "      <td>69.397560</td>\n",
       "    </tr>\n",
       "  </tbody>\n",
       "</table>\n",
       "<p>4026 rows × 4 columns</p>\n",
       "</div>"
      ],
      "text/plain": [
       "            gender  age  length_service  absent_hours\n",
       "fisrt_name                                           \n",
       "Aaron            1   43        5.502564     95.416804\n",
       "Abadie           0   41        2.433408     23.474656\n",
       "Abbas            0   51        4.164912    138.834747\n",
       "Abbate           0   39        1.766600     51.527000\n",
       "Abbott           5  207       23.414446    327.149793\n",
       "...            ...  ...             ...           ...\n",
       "Ziemba           0   40        4.526874     74.190142\n",
       "Zinn             1   50        3.678007     66.643098\n",
       "Zorn             0   31        4.071733      0.000000\n",
       "Zuniga           1   30        6.011229      0.000000\n",
       "Zwilling         0   49        2.047741     69.397560\n",
       "\n",
       "[4026 rows x 4 columns]"
      ]
     },
     "execution_count": 284,
     "metadata": {},
     "output_type": "execute_result"
    }
   ],
   "source": [
    "df.groupby('fisrt_name')['gender','age','length_service','absent_hours'].sum()"
   ]
  },
  {
   "cell_type": "code",
   "execution_count": 285,
   "id": "812c542a",
   "metadata": {},
   "outputs": [
    {
     "data": {
      "text/plain": [
       "(8259, 9)"
      ]
     },
     "execution_count": 285,
     "metadata": {},
     "output_type": "execute_result"
    }
   ],
   "source": [
    "df.shape"
   ]
  },
  {
   "cell_type": "markdown",
   "id": "d5a9b0cd",
   "metadata": {},
   "source": [
    "# Regresi Linear Sederhana"
   ]
  },
  {
   "cell_type": "markdown",
   "id": "4d4107c4",
   "metadata": {},
   "source": [
    "Fit the model using lm fit"
   ]
  },
  {
   "cell_type": "code",
   "execution_count": 316,
   "id": "a5734379",
   "metadata": {},
   "outputs": [],
   "source": [
    "from sklearn.linear_model import LinearRegression\n",
    "from sklearn.model_selection import train_test_split\n",
    "z = df[['gender','age','length_service']]\n",
    "y = df['absent_hours']"
   ]
  },
  {
   "cell_type": "markdown",
   "id": "93537cee",
   "metadata": {},
   "source": [
    "# Splitting Data"
   ]
  },
  {
   "cell_type": "code",
   "execution_count": 317,
   "id": "079eebc0",
   "metadata": {},
   "outputs": [
    {
     "name": "stdout",
     "output_type": "stream",
     "text": [
      "(5781, 1) (5781,)\n",
      "(2478, 1) (2478,)\n"
     ]
    }
   ],
   "source": [
    "x_train, x_test, y_train, y_test = train_test_split(x,y, test_size=0.3, random_state=0)\n",
    "print(x_train.shape, y_train.shape)\n",
    "print(x_test.shape, y_test.shape)"
   ]
  },
  {
   "cell_type": "code",
   "execution_count": null,
   "id": "80694106",
   "metadata": {},
   "outputs": [],
   "source": [
    "lm = LinearRegression()\n",
    "model = lm.fit(x_train, y_train)\n",
    "model"
   ]
  },
  {
   "cell_type": "code",
   "execution_count": 323,
   "id": "ea5c0b59",
   "metadata": {},
   "outputs": [],
   "source": [
    "# Fit the model using lm fit"
   ]
  },
  {
   "cell_type": "code",
   "execution_count": 324,
   "id": "be9ff56a",
   "metadata": {},
   "outputs": [
    {
     "data": {
      "text/plain": [
       "-112.84942072294888"
      ]
     },
     "execution_count": 324,
     "metadata": {},
     "output_type": "execute_result"
    }
   ],
   "source": [
    "lm.intercept_"
   ]
  },
  {
   "cell_type": "code",
   "execution_count": 326,
   "id": "8831616d",
   "metadata": {},
   "outputs": [
    {
     "data": {
      "text/plain": [
       "array([4.18917885])"
      ]
     },
     "execution_count": 326,
     "metadata": {},
     "output_type": "execute_result"
    }
   ],
   "source": [
    "lm.coef_"
   ]
  },
  {
   "cell_type": "markdown",
   "id": "7e5e0a13",
   "metadata": {},
   "source": [
    "Oleh karena itu Persamaan Regresi Linier Sederhana adalah\n",
    "absent hours = -112.431 + 4.176*age"
   ]
  },
  {
   "cell_type": "markdown",
   "id": "079cf29b",
   "metadata": {},
   "source": [
    "# Prediction of test set"
   ]
  },
  {
   "cell_type": "code",
   "execution_count": 338,
   "id": "e9d44b38",
   "metadata": {},
   "outputs": [
    {
     "name": "stdout",
     "output_type": "stream",
     "text": [
      "Prediction for test set: [-24.87666491  46.3393755   84.04198513 ...  17.01512356  96.60952168\n",
      "  63.09609089]\n"
     ]
    }
   ],
   "source": [
    "Y_pred = lm2.predict(x_test)\n",
    "#Predicted values\n",
    "print(\"Prediction for test set: {}\".format(Y_pred))"
   ]
  },
  {
   "cell_type": "code",
   "execution_count": 339,
   "id": "a247b47e",
   "metadata": {
    "scrolled": true
   },
   "outputs": [
    {
     "data": {
      "text/html": [
       "<div>\n",
       "<style scoped>\n",
       "    .dataframe tbody tr th:only-of-type {\n",
       "        vertical-align: middle;\n",
       "    }\n",
       "\n",
       "    .dataframe tbody tr th {\n",
       "        vertical-align: top;\n",
       "    }\n",
       "\n",
       "    .dataframe thead th {\n",
       "        text-align: right;\n",
       "    }\n",
       "</style>\n",
       "<table border=\"1\" class=\"dataframe\">\n",
       "  <thead>\n",
       "    <tr style=\"text-align: right;\">\n",
       "      <th></th>\n",
       "      <th>Actual value</th>\n",
       "      <th>Predicted value</th>\n",
       "    </tr>\n",
       "  </thead>\n",
       "  <tbody>\n",
       "    <tr>\n",
       "      <th>4421</th>\n",
       "      <td>0.000000</td>\n",
       "      <td>-24.876665</td>\n",
       "    </tr>\n",
       "    <tr>\n",
       "      <th>1850</th>\n",
       "      <td>80.004425</td>\n",
       "      <td>46.339376</td>\n",
       "    </tr>\n",
       "    <tr>\n",
       "      <th>644</th>\n",
       "      <td>73.008409</td>\n",
       "      <td>84.041985</td>\n",
       "    </tr>\n",
       "    <tr>\n",
       "      <th>7892</th>\n",
       "      <td>187.506533</td>\n",
       "      <td>109.177058</td>\n",
       "    </tr>\n",
       "    <tr>\n",
       "      <th>7275</th>\n",
       "      <td>35.446375</td>\n",
       "      <td>54.717733</td>\n",
       "    </tr>\n",
       "    <tr>\n",
       "      <th>...</th>\n",
       "      <td>...</td>\n",
       "      <td>...</td>\n",
       "    </tr>\n",
       "    <tr>\n",
       "      <th>6807</th>\n",
       "      <td>98.948194</td>\n",
       "      <td>79.852806</td>\n",
       "    </tr>\n",
       "    <tr>\n",
       "      <th>7314</th>\n",
       "      <td>0.000000</td>\n",
       "      <td>0.258408</td>\n",
       "    </tr>\n",
       "    <tr>\n",
       "      <th>4191</th>\n",
       "      <td>25.599744</td>\n",
       "      <td>17.015124</td>\n",
       "    </tr>\n",
       "    <tr>\n",
       "      <th>5533</th>\n",
       "      <td>53.185712</td>\n",
       "      <td>96.609522</td>\n",
       "    </tr>\n",
       "    <tr>\n",
       "      <th>31</th>\n",
       "      <td>38.883323</td>\n",
       "      <td>63.096091</td>\n",
       "    </tr>\n",
       "  </tbody>\n",
       "</table>\n",
       "<p>2478 rows × 2 columns</p>\n",
       "</div>"
      ],
      "text/plain": [
       "      Actual value  Predicted value\n",
       "4421      0.000000       -24.876665\n",
       "1850     80.004425        46.339376\n",
       "644      73.008409        84.041985\n",
       "7892    187.506533       109.177058\n",
       "7275     35.446375        54.717733\n",
       "...            ...              ...\n",
       "6807     98.948194        79.852806\n",
       "7314      0.000000         0.258408\n",
       "4191     25.599744        17.015124\n",
       "5533     53.185712        96.609522\n",
       "31       38.883323        63.096091\n",
       "\n",
       "[2478 rows x 2 columns]"
      ]
     },
     "execution_count": 339,
     "metadata": {},
     "output_type": "execute_result"
    }
   ],
   "source": [
    "lm_diff = pd.DataFrame({'Actual value': y_test, 'Predicted value': Y_pred})\n",
    "lm_diff"
   ]
  },
  {
   "cell_type": "code",
   "execution_count": 337,
   "id": "afde1ca9",
   "metadata": {},
   "outputs": [
    {
     "name": "stderr",
     "output_type": "stream",
     "text": [
      "d:\\Users\\hp\\anaconda3\\lib\\site-packages\\seaborn\\distributions.py:2619: FutureWarning: `distplot` is a deprecated function and will be removed in a future version. Please adapt your code to use either `displot` (a figure-level function with similar flexibility) or `kdeplot` (an axes-level function for kernel density plots).\n",
      "  warnings.warn(msg, FutureWarning)\n",
      "d:\\Users\\hp\\anaconda3\\lib\\site-packages\\seaborn\\distributions.py:2619: FutureWarning: `distplot` is a deprecated function and will be removed in a future version. Please adapt your code to use either `displot` (a figure-level function with similar flexibility) or `kdeplot` (an axes-level function for kernel density plots).\n",
      "  warnings.warn(msg, FutureWarning)\n"
     ]
    },
    {
     "data": {
      "text/plain": [
       "<AxesSubplot:xlabel='absent_hours', ylabel='Density'>"
      ]
     },
     "execution_count": 337,
     "metadata": {},
     "output_type": "execute_result"
    },
    {
     "data": {
      "image/png": "[encoded data removed]",
      "text/plain": [
       "<Figure size 432x288 with 1 Axes>"
      ]
     },
     "metadata": {
      "needs_background": "light"
     },
     "output_type": "display_data"
    }
   ],
   "source": [
    "ax1 = sns.distplot(df['absent_hours'], hist=False, color='r', label = 'Aktual Value')\n",
    "sns.distplot(Y_pred, hist=False, color='b', label = 'Fitted Values', ax=ax1)"
   ]
  },
  {
   "cell_type": "code",
   "execution_count": 327,
   "id": "50072309",
   "metadata": {},
   "outputs": [
    {
     "data": {
      "text/plain": [
       "0.6892382998931327"
      ]
     },
     "execution_count": 327,
     "metadata": {},
     "output_type": "execute_result"
    }
   ],
   "source": [
    "lm.score(x,y)"
   ]
  },
  {
   "cell_type": "markdown",
   "id": "078dd619",
   "metadata": {},
   "source": [
    "# EVALUASI MODEL"
   ]
  },
  {
   "cell_type": "code",
   "execution_count": 340,
   "id": "6a67b318",
   "metadata": {},
   "outputs": [
    {
     "name": "stdout",
     "output_type": "stream",
     "text": [
      "Mean Absolute Error: 21.141470897602506\n",
      "Mean Square Error: 723.7836987932405\n",
      "Root Mean Square Error: 26.903228408375835\n"
     ]
    }
   ],
   "source": [
    "from sklearn import metrics\n",
    "meanAbErr = metrics.mean_absolute_error(y, yhat)\n",
    "meanSqErr = metrics.mean_squared_error(y, yhat)\n",
    "rootMeanSqErr = np.sqrt(metrics.mean_squared_error(y, yhat))\n",
    "print('Mean Absolute Error:', meanAbErr)\n",
    "print('Mean Square Error:', meanSqErr)\n",
    "print('Root Mean Square Error:', rootMeanSqErr)\n"
   ]
  },
  {
   "cell_type": "markdown",
   "id": "3f94883c",
   "metadata": {},
   "source": [
    "# Regresi Linear Berganda"
   ]
  },
  {
   "cell_type": "code",
   "execution_count": 292,
   "id": "f194677b",
   "metadata": {},
   "outputs": [],
   "source": [
    "from sklearn.linear_model import LinearRegression\n",
    "from sklearn.model_selection import train_test_split\n",
    "z = df[['gender','age','length_service']]\n",
    "y = df['absent_hours']"
   ]
  },
  {
   "cell_type": "markdown",
   "id": "2e5d5f93",
   "metadata": {},
   "source": [
    "Splitting the data into training and testing subsets"
   ]
  },
  {
   "cell_type": "code",
   "execution_count": 293,
   "id": "812847c2",
   "metadata": {},
   "outputs": [
    {
     "name": "stdout",
     "output_type": "stream",
     "text": [
      "(5781, 3) (5781,)\n",
      "(2478, 3) (2478,)\n"
     ]
    }
   ],
   "source": [
    "z_train, z_test, b_train, b_test = train_test_split(z,y, test_size=0.3, random_state=0)\n",
    "print(z_train.shape, b_train.shape)\n",
    "print(z_test.shape, b_test.shape)"
   ]
  },
  {
   "cell_type": "markdown",
   "id": "c73c4037",
   "metadata": {},
   "source": [
    "z: variabel independen\n",
    "\n",
    "y: variabel terikat\n",
    "\n",
    "z_train, y_train: bagian dari data yang tersedia sebagai set pelatihan\n",
    "\n",
    "z_test, y_test: bagian dari data yang tersedia sebagai set pengujian\n",
    "\n",
    "test_size: persentase data untuk pengujian (30% dalam kasus ini)"
   ]
  },
  {
   "cell_type": "code",
   "execution_count": 294,
   "id": "71d71e43",
   "metadata": {},
   "outputs": [
    {
     "data": {
      "text/plain": [
       "LinearRegression()"
      ]
     },
     "execution_count": 294,
     "metadata": {},
     "output_type": "execute_result"
    }
   ],
   "source": [
    "lm2 = LinearRegression()\n",
    "model2 = lm2.fit(z_train, b_train)\n",
    "model2"
   ]
  },
  {
   "cell_type": "code",
   "execution_count": 295,
   "id": "e062f57e",
   "metadata": {},
   "outputs": [
    {
     "data": {
      "text/plain": [
       "-100.121716329832"
      ]
     },
     "execution_count": 295,
     "metadata": {},
     "output_type": "execute_result"
    }
   ],
   "source": [
    "lm2.intercept_"
   ]
  },
  {
   "cell_type": "code",
   "execution_count": 296,
   "id": "4dedea43",
   "metadata": {},
   "outputs": [
    {
     "data": {
      "text/plain": [
       "array([-16.51243773,   4.26166838,  -1.54778862])"
      ]
     },
     "execution_count": 296,
     "metadata": {},
     "output_type": "execute_result"
    }
   ],
   "source": [
    "lm2.coef_"
   ]
  },
  {
   "cell_type": "markdown",
   "id": "77316632",
   "metadata": {},
   "source": [
    "Oleh karena itu Persamaan Regresi Linear Berganda adalah \n",
    "absent hours = -95.639 - 16.818*gender + 4.207*age - 1.875*length service "
   ]
  },
  {
   "cell_type": "markdown",
   "id": "561330b9",
   "metadata": {},
   "source": [
    "Sekarang model sudah disiapkan, mari kita prediksi absent hours menggunakan metode predict () pada subset pengujian."
   ]
  },
  {
   "cell_type": "code",
   "execution_count": 297,
   "id": "384552b1",
   "metadata": {},
   "outputs": [
    {
     "data": {
      "text/plain": [
       "array([-34.02894827,  52.93762529,  75.99294823, 118.48078568,\n",
       "        47.30304953])"
      ]
     },
     "execution_count": 297,
     "metadata": {},
     "output_type": "execute_result"
    }
   ],
   "source": [
    "y_pred = lm2.predict(z_test)[0:5]\n",
    "y_pred"
   ]
  },
  {
   "cell_type": "code",
   "execution_count": 298,
   "id": "8e63e087",
   "metadata": {},
   "outputs": [
    {
     "data": {
      "text/plain": [
       "0.7259575058538832"
      ]
     },
     "execution_count": 298,
     "metadata": {},
     "output_type": "execute_result"
    }
   ],
   "source": [
    "lm2.score(z_test,b_test)"
   ]
  },
  {
   "cell_type": "markdown",
   "id": "eebced1c",
   "metadata": {},
   "source": [
    "Nilai R kuadrat mendekati satu, sehingga dapat dikatakan model sudah sesuai.\n",
    "Dalam hal ini, 71% variasi dalam absent hours dijelaskan oleh variabel bebas."
   ]
  },
  {
   "cell_type": "markdown",
   "id": "ce966b21",
   "metadata": {},
   "source": [
    "# Plot distribusi menghitung nilai prediksi vs nilai sebenarnya."
   ]
  },
  {
   "cell_type": "code",
   "execution_count": 336,
   "id": "d33bf52c",
   "metadata": {
    "scrolled": false
   },
   "outputs": [
    {
     "name": "stderr",
     "output_type": "stream",
     "text": [
      "d:\\Users\\hp\\anaconda3\\lib\\site-packages\\seaborn\\distributions.py:2619: FutureWarning: `distplot` is a deprecated function and will be removed in a future version. Please adapt your code to use either `displot` (a figure-level function with similar flexibility) or `kdeplot` (an axes-level function for kernel density plots).\n",
      "  warnings.warn(msg, FutureWarning)\n",
      "d:\\Users\\hp\\anaconda3\\lib\\site-packages\\seaborn\\distributions.py:2619: FutureWarning: `distplot` is a deprecated function and will be removed in a future version. Please adapt your code to use either `displot` (a figure-level function with similar flexibility) or `kdeplot` (an axes-level function for kernel density plots).\n",
      "  warnings.warn(msg, FutureWarning)\n"
     ]
    },
    {
     "data": {
      "text/plain": [
       "<AxesSubplot:xlabel='absent_hours', ylabel='Density'>"
      ]
     },
     "execution_count": 336,
     "metadata": {},
     "output_type": "execute_result"
    },
    {
     "data": {
      "image/png": "[encoded data removed]",
      "text/plain": [
       "<Figure size 432x288 with 1 Axes>"
      ]
     },
     "metadata": {
      "needs_background": "light"
     },
     "output_type": "display_data"
    }
   ],
   "source": [
    "ax1 = sns.distplot(df['absent_hours'], hist=False, color='r', label = 'Aktual Value')\n",
    "sns.distplot(y_pred, hist=False, color='b', label = 'Fitted Values', ax=ax1)"
   ]
  },
  {
   "cell_type": "code",
   "execution_count": 301,
   "id": "2ccc8f02",
   "metadata": {},
   "outputs": [
    {
     "name": "stdout",
     "output_type": "stream",
     "text": [
      "Prediction for test set: [-34.02894827  52.93762529  75.99294823 ...  23.87127444 107.18960233\n",
      "  49.45041027]\n"
     ]
    }
   ],
   "source": [
    "#Prediction of test set\n",
    "y_pred = lm2.predict(z_test)\n",
    "#Predicted values\n",
    "print(\"Prediction for test set: {}\".format(y_pred))"
   ]
  },
  {
   "cell_type": "code",
   "execution_count": 302,
   "id": "0dde7b44",
   "metadata": {
    "scrolled": true
   },
   "outputs": [
    {
     "data": {
      "text/html": [
       "<div>\n",
       "<style scoped>\n",
       "    .dataframe tbody tr th:only-of-type {\n",
       "        vertical-align: middle;\n",
       "    }\n",
       "\n",
       "    .dataframe tbody tr th {\n",
       "        vertical-align: top;\n",
       "    }\n",
       "\n",
       "    .dataframe thead th {\n",
       "        text-align: right;\n",
       "    }\n",
       "</style>\n",
       "<table border=\"1\" class=\"dataframe\">\n",
       "  <thead>\n",
       "    <tr style=\"text-align: right;\">\n",
       "      <th></th>\n",
       "      <th>Actual value</th>\n",
       "      <th>Predicted value</th>\n",
       "    </tr>\n",
       "  </thead>\n",
       "  <tbody>\n",
       "    <tr>\n",
       "      <th>4421</th>\n",
       "      <td>0.000000</td>\n",
       "      <td>-34.028948</td>\n",
       "    </tr>\n",
       "    <tr>\n",
       "      <th>1850</th>\n",
       "      <td>80.004425</td>\n",
       "      <td>52.937625</td>\n",
       "    </tr>\n",
       "    <tr>\n",
       "      <th>644</th>\n",
       "      <td>73.008409</td>\n",
       "      <td>75.992948</td>\n",
       "    </tr>\n",
       "    <tr>\n",
       "      <th>7892</th>\n",
       "      <td>187.506533</td>\n",
       "      <td>118.480786</td>\n",
       "    </tr>\n",
       "    <tr>\n",
       "      <th>7275</th>\n",
       "      <td>35.446375</td>\n",
       "      <td>47.303050</td>\n",
       "    </tr>\n",
       "    <tr>\n",
       "      <th>...</th>\n",
       "      <td>...</td>\n",
       "      <td>...</td>\n",
       "    </tr>\n",
       "    <tr>\n",
       "      <th>6807</th>\n",
       "      <td>98.948194</td>\n",
       "      <td>74.124969</td>\n",
       "    </tr>\n",
       "    <tr>\n",
       "      <th>7314</th>\n",
       "      <td>0.000000</td>\n",
       "      <td>-8.421972</td>\n",
       "    </tr>\n",
       "    <tr>\n",
       "      <th>4191</th>\n",
       "      <td>25.599744</td>\n",
       "      <td>23.871274</td>\n",
       "    </tr>\n",
       "    <tr>\n",
       "      <th>5533</th>\n",
       "      <td>53.185712</td>\n",
       "      <td>107.189602</td>\n",
       "    </tr>\n",
       "    <tr>\n",
       "      <th>31</th>\n",
       "      <td>38.883323</td>\n",
       "      <td>49.450410</td>\n",
       "    </tr>\n",
       "  </tbody>\n",
       "</table>\n",
       "<p>2478 rows × 2 columns</p>\n",
       "</div>"
      ],
      "text/plain": [
       "      Actual value  Predicted value\n",
       "4421      0.000000       -34.028948\n",
       "1850     80.004425        52.937625\n",
       "644      73.008409        75.992948\n",
       "7892    187.506533       118.480786\n",
       "7275     35.446375        47.303050\n",
       "...            ...              ...\n",
       "6807     98.948194        74.124969\n",
       "7314      0.000000        -8.421972\n",
       "4191     25.599744        23.871274\n",
       "5533     53.185712       107.189602\n",
       "31       38.883323        49.450410\n",
       "\n",
       "[2478 rows x 2 columns]"
      ]
     },
     "execution_count": 302,
     "metadata": {},
     "output_type": "execute_result"
    }
   ],
   "source": [
    "lm2_diff = pd.DataFrame({'Actual value': b_test, 'Predicted value': y_pred})\n",
    "lm2_diff"
   ]
  },
  {
   "cell_type": "markdown",
   "id": "66251cd7",
   "metadata": {},
   "source": [
    "# Model Evaluation"
   ]
  },
  {
   "cell_type": "code",
   "execution_count": 305,
   "id": "69c61019",
   "metadata": {
    "scrolled": true
   },
   "outputs": [
    {
     "name": "stdout",
     "output_type": "stream",
     "text": [
      "Mean Absolute Error: 19.87228442076841\n",
      "Mean Square Error: 623.9508919314668\n",
      "Root Mean Square Error: 24.979009026209724\n"
     ]
    }
   ],
   "source": [
    "\n",
    "meanAbErr = metrics.mean_absolute_error(b_test, y_pred)\n",
    "meanSqErr = metrics.mean_squared_error(b_test, y_pred)\n",
    "rootMeanSqErr = np.sqrt(metrics.mean_squared_error(b_test, y_pred))\n",
    "print('Mean Absolute Error:', meanAbErr)\n",
    "print('Mean Square Error:', meanSqErr)\n",
    "print('Root Mean Square Error:', rootMeanSqErr)"
   ]
  }
 ],
 "metadata": {
  "kernelspec": {
   "display_name": "Python 3 (ipykernel)",
   "language": "python",
   "name": "python3"
  },
  "language_info": {
   "codemirror_mode": {
    "name": "ipython",
    "version": 3
   },
   "file_extension": ".py",
   "mimetype": "text/x-python",
   "name": "python",
   "nbconvert_exporter": "python",
   "pygments_lexer": "ipython3",
   "version": "3.9.7"
  }
 },
 "nbformat": 4,
 "nbformat_minor": 5
}
